{
 "cells": [
  {
   "cell_type": "code",
   "execution_count": 56,
   "metadata": {},
   "outputs": [],
   "source": [
    "import requests\n",
    "from pprint import pprint\n",
    "from bs4 import BeautifulSoup\n",
    "from bs4 import NavigableString"
   ]
  },
  {
   "cell_type": "code",
   "execution_count": 21,
   "metadata": {
    "collapsed": true
   },
   "outputs": [],
   "source": [
    "r = requests.get(\"http://www.jutarnji.hr/vijesti/hrvatska/skandal-u-ministarstvu-obrazovanja-voditeljica-kurikularne-reforme-pod-istragom-nova-ministrica-odmah-digla-uzbunu-zasto-nije-dosla-na-posao/6359926/\")"
   ]
  },
  {
   "cell_type": "code",
   "execution_count": 22,
   "metadata": {
    "collapsed": true
   },
   "outputs": [],
   "source": [
    "r.raise_for_status()"
   ]
  },
  {
   "cell_type": "code",
   "execution_count": 23,
   "metadata": {},
   "outputs": [],
   "source": [
    "soup = BeautifulSoup(r.content, \"lxml\")"
   ]
  },
  {
   "cell_type": "code",
   "execution_count": 69,
   "metadata": {},
   "outputs": [],
   "source": [
    "heading = soup.find(\"h1\", attrs={\"class\":\"title\"}).getText().strip()"
   ]
  },
  {
   "cell_type": "code",
   "execution_count": 70,
   "metadata": {},
   "outputs": [
    {
     "name": "stdout",
     "output_type": "stream",
     "text": [
      "{'content': [{'content': 'Ministarstvo znanosti i obrazovanja zatražilo je '\n",
      "                         'očitovanje zaposlenice Jasminke Buljan Culej jer u '\n",
      "                         'utorak nije bila na radnom mjestu, niti je '\n",
      "                         'prisustvovala sastanku Stručnoga povjerenstva za '\n",
      "                         'odlučivanje o pragovima za ocjene na ispitima '\n",
      "                         'državne mature, čija je predsjednica.',\n",
      "              'type': 'paragraph'},\n",
      "             {'content': 'Buljan Culej bivša je savjetnica Pave Barišića, za '\n",
      "                         'čijega je ministarskog mandata izabrana '\n",
      "                         'predsjednicom Ekspertne radne skupine za kurikularnu '\n",
      "                         'reformu. Zbog sumnji u regularnost javnog natječaja, '\n",
      "                         'a na koje su upozoravali pojedini članovi '\n",
      "                         'Povjerenstva za provedbu Strategije obrazovanja i '\n",
      "                         'znanosti, nova ministrica Blaženka Divjak najavila '\n",
      "                         'je provjeru transparentnosti natječajnog procesa. Do '\n",
      "                         'konačne odluke je li natječaj kojim je Culej stala '\n",
      "                         'na čelo Ekspertne skupine proveden regularno, '\n",
      "                         'provjerava se i iz kojeg je višeg razloga Culej '\n",
      "                         'izostala s posla i sjednice Povjerenstva 11. srpnja.',\n",
      "              'type': 'paragraph'},\n",
      "             {'content': 'Bez obrazloženja', 'type': 'header'},\n",
      "             {'content': 'Povjerenstvo se sastalo dan uoči objave privremenih '\n",
      "                         'rezultata državne mature, a umjesto devet članova, '\n",
      "                         'sastanku je prisustvovalo njih šest. Prema potvrdi '\n",
      "                         'prisutnih članova, osim Culej, nedostajali su '\n",
      "                         'članovi Momir Karin i Ljiljana Klinger.',\n",
      "              'type': 'paragraph'},\n",
      "             {'content': 'O izbivanju predstavnika Ministarstva sa sjednice je '\n",
      "                         'alarmirana ministrica obrazovanja Blaženka Divjak, '\n",
      "                         'koja je hitno poslala zamjene za izostale '\n",
      "                         'predstavnike Ministarstva, pa je vođenje '\n",
      "                         'Povjerenstva preuzeo državni tajnik Hrvoje Šlezak. '\n",
      "                         'Naknadnom provjerom pokazalo se da Buljan Culej tog '\n",
      "                         'dana (utorak) nije bila ni na radnom mjestu.',\n",
      "              'type': 'paragraph'},\n",
      "             {'content': '- S obzirom na to da u vrijeme održavanja sjednice '\n",
      "                         'Povjerenstva za državnu maturu zaposlenica nije bila '\n",
      "                         'na radnom mjestu, a ni na sjednici Povjerenstva, o '\n",
      "                         'razlozima njenog izostanka zatraženo je očitovanje - '\n",
      "                         'kažu u MZO-u.',\n",
      "              'type': 'paragraph'},\n",
      "             {'content': 'Navodno je Jasminka Buljan Culej svojim najbližim '\n",
      "                         'suradnicima povjerila kako je sastanak propustila '\n",
      "                         'zbog hitnog sastanka s premijerom Andrejom '\n",
      "                         'Plenkovićem. Glavna tema je, pretpostavljaju oni, '\n",
      "                         'bila njezina budućnost unutar ključnog tijela za '\n",
      "                         'provođenje kurikularne reforme.',\n",
      "              'type': 'paragraph'},\n",
      "             {'content': 'Naime, dolaskom nove ministrice Buljan Culej '\n",
      "                         'automatizmom je razriješena savjetničke uloge, a '\n",
      "                         'njezin ostanak na čelu skupine za kurikularnu '\n",
      "                         'reformu upitan je od starta. Razlog su upozorenja i '\n",
      "                         'sumnje u nepravilnosti koje iznose članovi '\n",
      "                         'Povjerenstva za provedbu Strategije obrazovanja i '\n",
      "                         'znanosti, Vedran Mornar, Pero Lučin, Slobodan Uzelac '\n",
      "                         'i (bivši član) Josip Milat.',\n",
      "              'type': 'paragraph'},\n",
      "             {'content': 'Upozorili su, među ostalim, na nepoštivanje '\n",
      "                         'dogovorenih kriterija za izbor predsjednika ERS-a, '\n",
      "                         'za kojega je dogovoreno da ne dolazi iz redova '\n",
      "                         'Ministarstva, međutim, upravo se to dogodilo. Osim '\n",
      "                         'toga, iznijeli su niz razloga zbog kojih treba '\n",
      "                         'ispitati je li natječaj proveden u skladu sa '\n",
      "                         'zakonom. Blaženka Divjak je pak prije četiri tjedna '\n",
      "                         'za HRT izjavila: “Naravno da treba novi natječaj, '\n",
      "                         'ali prije toga treba još dosta toga provjeriti”. Od '\n",
      "                         'tada se čeka rezultat provjere.',\n",
      "              'type': 'paragraph'},\n",
      "             {'content': 'Ne odgovora na pozive', 'type': 'header'},\n",
      "             {'content': 'Potekla dva dana nismo uspjeli doći u kontakt s '\n",
      "                         'Jasminkom Buljan Culej, koja je u nedavnom intervjuu '\n",
      "                         'Globusu, na pitanje planira li se povući s vrha '\n",
      "                         'ERS-a ako naiđe na probleme, odgovorila: “Dosad u '\n",
      "                         'životu nisam ni od čega odustala. Unatoč brojnim '\n",
      "                         'poteškoćama. S poteškoćama se suočavam i odlučno ih '\n",
      "                         'rješavam”.',\n",
      "              'type': 'paragraph'},\n",
      "             {'content': 'Paralelno s ovim očitovanjem, očekuje se i provjera '\n",
      "                         'je li članica istoga Povjerenstva Jadranka Žarković '\n",
      "                         'Pečenković, ravnateljica Agencije za odgoj i '\n",
      "                         'obrazovanje, u sukobu interesa, s obzirom na to da '\n",
      "                         'je član njezine uže obitelji pristupnik na državnoj '\n",
      "                         'maturi.',\n",
      "              'type': 'paragraph'},\n",
      "             {'content': '- Točna je informacija da je moje dijete ovogodišnji '\n",
      "                         'pristupnik na državnoj maturi, što sam u utorak '\n",
      "                         'jasno i otvoreno rekla pred svim članovima '\n",
      "                         'Povjerenstva. Pitala sam ih je li to potencijalni '\n",
      "                         'sukob interesa, a odgovorili su da nije - objašnjava '\n",
      "                         'Žarković Pečenković, koja je isto pitanje postavila '\n",
      "                         'i pravnici Agencije za odgoj i obrazovanje.',\n",
      "              'type': 'paragraph'},\n",
      "             {'content': 'Sukob interesa', 'type': 'header'},\n",
      "             {'content': '- Pravnica mi je potvrdila da to nije sukob '\n",
      "                         'interesa. Ipak je riječ o Povjerenstvu koje odlučuje '\n",
      "                         'o pragovima za ocjene, a ne nekom tijelu koje ima '\n",
      "                         'uvid u ispitne materijale ili tijelu koje kreira '\n",
      "                         'ispitne materijale. Zato je moja savjest mirna - '\n",
      "                         'poručuje Pečenković.',\n",
      "              'type': 'paragraph'},\n",
      "             {'content': 'O ovome pak slučaju u Ministarstvu kažu:',\n",
      "              'type': 'paragraph'},\n",
      "             {'content': '- Ako postoje osnovane sumnje u neregularnost, '\n",
      "                         'Ministarstvo će po primitku prijave te navode '\n",
      "                         'dodatno provjeriti. Dodaju da je Stručno '\n",
      "                         'povjerenstvo za odlučivanje o pragovima za ocjene na '\n",
      "                         'ispitima državne mature za školsku godinu '\n",
      "                         '2016./2017. imenovao tadašnji ministar Barišić, a '\n",
      "                         'ministrica Divjak po stupanju na dužnost nije '\n",
      "                         'revidirala tu odluku.',\n",
      "              'type': 'paragraph'},\n",
      "             {'content': '- Pretpostavka je da je prethodno napravljena '\n",
      "                         'provjera - kažu u Ministarstvu - upravo zbog '\n",
      "                         'izbjegavanja mogućnosti sukoba interesa ili bilo '\n",
      "                         'kakvih nepravilnosti.',\n",
      "              'type': 'paragraph'}],\n",
      " 'heading': 'SKANDAL U MINISTARSTVU OBRAZOVANJA: VODITELJICA KURIKULARNE '\n",
      "            \"REFORME POD ISTRAGOM! Nova ministrica odmah digla uzbunu: 'Zašto \"\n",
      "            \"nije došla na posao?'\"}\n"
     ]
    }
   ],
   "source": [
    "content = {\"heading\": heading, \"content\":[]}\n",
    "for tag in soup.find(\"section\", attrs={\"id\":\"CImaincontent\"}).find(\"div\"):\n",
    "    if isinstance(tag, NavigableString):\n",
    "        continue\n",
    "    type = \"unknown\"\n",
    "    if tag.name == \"p\":\n",
    "        type = \"paragraph\"\n",
    "    elif tag.name[0] == \"h\":\n",
    "        type = \"header\"\n",
    "    content[\"content\"].append({\"type\": type, \"content\": tag.getText()})\n",
    "pprint(content)"
   ]
  },
  {
   "cell_type": "code",
   "execution_count": null,
   "metadata": {
    "collapsed": true
   },
   "outputs": [],
   "source": []
  }
 ],
 "metadata": {
  "kernelspec": {
   "display_name": "Python 3",
   "language": "python",
   "name": "python3"
  },
  "language_info": {
   "codemirror_mode": {
    "name": "ipython",
    "version": 3
   },
   "file_extension": ".py",
   "mimetype": "text/x-python",
   "name": "python",
   "nbconvert_exporter": "python",
   "pygments_lexer": "ipython3",
   "version": "3.6.1"
  }
 },
 "nbformat": 4,
 "nbformat_minor": 2
}
